{
 "cells": [
  {
   "cell_type": "code",
   "execution_count": 1,
   "metadata": {},
   "outputs": [],
   "source": [
    "import matplotlib.pyplot as plt\n",
    "from matplotlib.colors import ListedColormap\n",
    "from matplotlib.patches import Patch, PathPatch\n",
    "import pandas as pd\n",
    "\n"
   ]
  },
  {
   "cell_type": "code",
   "execution_count": 14,
   "metadata": {},
   "outputs": [],
   "source": [
    "df = pd.DataFrame({'md litho': [0, 31, 49, 67, 406, 427, 442],\n",
    "                   'litho': ['NC', 'AT', 'BTT', 'NC', 'ABT', 'BAT', 'NC']})\n",
    "lithcode = {'ABT': 1, 'AT': 2, 'GD': 3, 'BAT': 4, 'BTT': 5, 'TT': 6, 'NC': 7, 'MV': 8, 'MS': 9, 'GW': 10}\n",
    "colors = ['darkred', 'crimson', 'red', 'peru', 'lightsalmon', 'lightpink', 'white', 'oldlace', 'thistle', 'lightgray']\n",
    "cmap = ListedColormap(colors)\n",
    "hatches = ['', '', '', '', '', '', '', '', '', '']\n"
   ]
  },
  {
   "cell_type": "code",
   "execution_count": null,
   "metadata": {},
   "outputs": [],
   "source": [
    "hatches.typ"
   ]
  },
  {
   "cell_type": "code",
   "execution_count": 11,
   "metadata": {},
   "outputs": [
    {
     "data": {
      "text/plain": [
       "array([7, 2, 5, 7, 1, 4], dtype=int64)"
      ]
     },
     "execution_count": 11,
     "metadata": {},
     "output_type": "execute_result"
    }
   ],
   "source": [
    "lithcode_values"
   ]
  },
  {
   "cell_type": "code",
   "execution_count": 15,
   "metadata": {},
   "outputs": [
    {
     "data": {
      "image/png": "[encoded data removed]",
      "text/plain": [
       "<Figure size 140x1200 with 1 Axes>"
      ]
     },
     "metadata": {},
     "output_type": "display_data"
    }
   ],
   "source": [
    "fig, ax = plt.subplots(figsize=(1.4, 12))\n",
    "lithcode_values = df['litho'][:-1].map(lithcode).to_numpy()\n",
    "polycollection = ax.pcolor( [0, 1], df['md litho'], lithcode_values.reshape(-1, 1), cmap=cmap, vmin=1, vmax=len(colors))\n",
    "ax.set_xticks([])  # optionally set the x-ticks to indicate the column borders\n",
    "ax.set_yticks(df['md litho'])  # hide ticks on the y-axis\n",
    "ax.invert_yaxis()\n",
    "\n",
    "for path, d2_val in zip(polycollection.get_paths(), lithcode_values):\n",
    "    hatch = hatches[d2_val - 1]\n",
    "    if hatch != '':\n",
    "        ax.add_patch(PathPatch(path, hatch=hatch, facecolor='none', edgecolor='black'))\n",
    "\n",
    "\n",
    "hands = [Patch(facecolor=col, label=k, edgecolor='black') \n",
    "         for k, col in zip(lithcode.keys(), colors)]\n",
    "ax.legend(handles=hands, bbox_to_anchor=(0.5, 1.1), loc='upper center', ncol=2, fontsize=8, facecolor='PaleTurquoise')\n",
    "\n",
    "plt.tight_layout()  # this fits the legend and the labels nicely into the figure\n",
    "plt.show()"
   ]
  },
  {
   "cell_type": "code",
   "execution_count": 17,
   "metadata": {},
   "outputs": [
    {
     "data": {
      "image/png": "[encoded data removed]",
      "text/html": [
       "<div style=\"vertical-align: middle;\"><strong>from_list</strong> </div><div class=\"cmap\"><img alt=\"from_list colormap\" title=\"from_list\" style=\"border: 1px solid #555;\" src=\"data:image/png;base64,iVBORw0KGgoAAAANSUhEUgAAAgAAAABACAYAAABsv8+/AAAAGHRFWHRUaXRsZQBmcm9tX2xpc3QgY29sb3JtYXBDL89FAAAAHnRFWHREZXNjcmlwdGlvbgBmcm9tX2xpc3QgY29sb3JtYXABtCnOAAAAMHRFWHRBdXRob3IATWF0cGxvdGxpYiB2My44LjQsIGh0dHBzOi8vbWF0cGxvdGxpYi5vcmdkzrK0AAAAMnRFWHRTb2Z0d2FyZQBNYXRwbG90bGliIHYzLjguNCwgaHR0cHM6Ly9tYXRwbG90bGliLm9yZ0poLZMAAAF1SURBVHic7dahTYNhFEDRH2ZoMEg2wEKKJEiGqupaKAQLMACmCoFpAizxhZdwz5ngyntx3Laf7R953t1PJyxzc3qZTljm7fAwnbDM7fXddMI6V4/TBes87acLlvn++phOWOb99XM6YZnz7jydsNTldAAA8PcMAAAEGQAACDIAABBkAAAgyAAAQJABAIAgAwAAQQYAAIIMAAAEGQAACDIAABBkAAAgyAAAQJABAIAgAwAAQQYAAIIMAAAEGQAACDIAABBkAAAgyAAAQJABAIAgAwAAQQYAAIIMAAAEGQAACDIAABBkAAAgyAAAQJABAIAgAwAAQQYAAIIMAAAEGQAACDIAABBkAAAgyAAAQJABAIAgAwAAQQYAAIIMAAAEGQAACDIAABBkAAAgyAAAQJABAIAgAwAAQQYAAIIMAAAEGQAACDIAABBkAAAgyAAAQJABAIAgAwAAQQYAAIIMAAAEGQAACDIAABBkAAAgyAAAQJABAICgXy77Dvjb91NGAAAAAElFTkSuQmCC\"></div><div style=\"vertical-align: middle; max-width: 514px; display: flex; justify-content: space-between;\"><div style=\"float: left;\"><div title=\"#8b0000ff\" style=\"display: inline-block; width: 1em; height: 1em; margin: 0; vertical-align: middle; border: 1px solid #555; background-color: #8b0000ff;\"></div> under</div><div style=\"margin: 0 auto; display: inline-block;\">bad <div title=\"#00000000\" style=\"display: inline-block; width: 1em; height: 1em; margin: 0; vertical-align: middle; border: 1px solid #555; background-color: #00000000;\"></div></div><div style=\"float: right;\">over <div title=\"#d3d3d3ff\" style=\"display: inline-block; width: 1em; height: 1em; margin: 0; vertical-align: middle; border: 1px solid #555; background-color: #d3d3d3ff;\"></div></div>"
      ],
      "text/plain": [
       "<matplotlib.colors.ListedColormap at 0x156c29decf0>"
      ]
     },
     "execution_count": 17,
     "metadata": {},
     "output_type": "execute_result"
    }
   ],
   "source": [
    "cmap"
   ]
  },
  {
   "cell_type": "code",
   "execution_count": 11,
   "metadata": {},
   "outputs": [
    {
     "data": {
      "text/plain": [
       "array([7, 2, 5, 7, 1, 4], dtype=int64)"
      ]
     },
     "execution_count": 11,
     "metadata": {},
     "output_type": "execute_result"
    }
   ],
   "source": [
    "lithcode_values"
   ]
  },
  {
   "cell_type": "code",
   "execution_count": 13,
   "metadata": {},
   "outputs": [
    {
     "data": {
      "text/plain": [
       "[Path(array([[ 0.,  0.],\n",
       "        [ 0.,  1.],\n",
       "        [31.,  1.],\n",
       "        [31.,  0.],\n",
       "        [ 0.,  0.],\n",
       "        [ 0.,  0.]]), array([ 1,  2,  2,  2,  2, 79], dtype=uint8)),\n",
       " Path(array([[31.,  0.],\n",
       "        [31.,  1.],\n",
       "        [49.,  1.],\n",
       "        [49.,  0.],\n",
       "        [31.,  0.],\n",
       "        [31.,  0.]]), array([ 1,  2,  2,  2,  2, 79], dtype=uint8)),\n",
       " Path(array([[49.,  0.],\n",
       "        [49.,  1.],\n",
       "        [67.,  1.],\n",
       "        [67.,  0.],\n",
       "        [49.,  0.],\n",
       "        [49.,  0.]]), array([ 1,  2,  2,  2,  2, 79], dtype=uint8)),\n",
       " Path(array([[ 67.,   0.],\n",
       "        [ 67.,   1.],\n",
       "        [406.,   1.],\n",
       "        [406.,   0.],\n",
       "        [ 67.,   0.],\n",
       "        [ 67.,   0.]]), array([ 1,  2,  2,  2,  2, 79], dtype=uint8)),\n",
       " Path(array([[406.,   0.],\n",
       "        [406.,   1.],\n",
       "        [427.,   1.],\n",
       "        [427.,   0.],\n",
       "        [406.,   0.],\n",
       "        [406.,   0.]]), array([ 1,  2,  2,  2,  2, 79], dtype=uint8)),\n",
       " Path(array([[427.,   0.],\n",
       "        [427.,   1.],\n",
       "        [442.,   1.],\n",
       "        [442.,   0.],\n",
       "        [427.,   0.],\n",
       "        [427.,   0.]]), array([ 1,  2,  2,  2,  2, 79], dtype=uint8))]"
      ]
     },
     "execution_count": 13,
     "metadata": {},
     "output_type": "execute_result"
    }
   ],
   "source": [
    "polycollection.get_paths()"
   ]
  },
  {
   "cell_type": "code",
   "execution_count": null,
   "metadata": {},
   "outputs": [],
   "source": []
  }
 ],
 "metadata": {
  "kernelspec": {
   "display_name": "sklearn-env",
   "language": "python",
   "name": "python3"
  },
  "language_info": {
   "codemirror_mode": {
    "name": "ipython",
    "version": 3
   },
   "file_extension": ".py",
   "mimetype": "text/x-python",
   "name": "python",
   "nbconvert_exporter": "python",
   "pygments_lexer": "ipython3",
   "version": "3.12.3"
  }
 },
 "nbformat": 4,
 "nbformat_minor": 2
}
